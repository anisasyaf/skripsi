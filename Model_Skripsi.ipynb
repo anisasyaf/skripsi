{
  "nbformat": 4,
  "nbformat_minor": 0,
  "metadata": {
    "colab": {
      "provenance": [],
      "authorship_tag": "ABX9TyPJskvrS7uovfVnGFOouDNS",
      "include_colab_link": true
    },
    "kernelspec": {
      "name": "python3",
      "display_name": "Python 3"
    },
    "language_info": {
      "name": "python"
    }
  },
  "cells": [
    {
      "cell_type": "markdown",
      "metadata": {
        "id": "view-in-github",
        "colab_type": "text"
      },
      "source": [
        "<a href=\"https://colab.research.google.com/github/anisasyaf/skripsi/blob/main/Model_Skripsi.ipynb\" target=\"_parent\"><img src=\"https://colab.research.google.com/assets/colab-badge.svg\" alt=\"Open In Colab\"/></a>"
      ]
    },
    {
      "cell_type": "code",
      "execution_count": null,
      "metadata": {
        "id": "GyvJR3L8pQw4",
        "colab": {
          "base_uri": "https://localhost:8080/"
        },
        "outputId": "4ee675cf-42d5-4b51-e4af-c695d51354d8"
      },
      "outputs": [
        {
          "output_type": "stream",
          "name": "stdout",
          "text": [
            "Mounted at /content/drive\n"
          ]
        }
      ],
      "source": [
        "from google.colab import drive\n",
        "drive.mount('/content/drive')"
      ]
    },
    {
      "cell_type": "code",
      "source": [
        "import pandas as pd"
      ],
      "metadata": {
        "id": "l9OGF1TdxE-w"
      },
      "execution_count": null,
      "outputs": []
    },
    {
      "cell_type": "code",
      "source": [
        "df = pd.read_csv('/content/drive/My Drive/20/datasetskripsi.csv')\n",
        "df.head(5)"
      ],
      "metadata": {
        "colab": {
          "base_uri": "https://localhost:8080/",
          "height": 206
        },
        "id": "7WX9_SO5xT1s",
        "outputId": "c10bfd55-66fb-4bb8-f8d6-2a131a299d73"
      },
      "execution_count": null,
      "outputs": [
        {
          "output_type": "execute_result",
          "data": {
            "text/plain": [
              "                                                 url  status\n",
              "0  https://cm4.bogumilszymon.warszawa.pl/petermar...       1\n",
              "1  https://c2693b7446d1fb97949b5e8fa38fd862.ioprl...       1\n",
              "2                    https://arub8010.page.link/Zi7X       1\n",
              "3  https://kundeservice-pa-nett-2024-b30588538836...       1\n",
              "4                          https://shorturl.at/eilrS       1"
            ],
            "text/html": [
              "\n",
              "  <div id=\"df-e6553892-206b-4d6d-a372-7f40e35a3e49\" class=\"colab-df-container\">\n",
              "    <div>\n",
              "<style scoped>\n",
              "    .dataframe tbody tr th:only-of-type {\n",
              "        vertical-align: middle;\n",
              "    }\n",
              "\n",
              "    .dataframe tbody tr th {\n",
              "        vertical-align: top;\n",
              "    }\n",
              "\n",
              "    .dataframe thead th {\n",
              "        text-align: right;\n",
              "    }\n",
              "</style>\n",
              "<table border=\"1\" class=\"dataframe\">\n",
              "  <thead>\n",
              "    <tr style=\"text-align: right;\">\n",
              "      <th></th>\n",
              "      <th>url</th>\n",
              "      <th>status</th>\n",
              "    </tr>\n",
              "  </thead>\n",
              "  <tbody>\n",
              "    <tr>\n",
              "      <th>0</th>\n",
              "      <td>https://cm4.bogumilszymon.warszawa.pl/petermar...</td>\n",
              "      <td>1</td>\n",
              "    </tr>\n",
              "    <tr>\n",
              "      <th>1</th>\n",
              "      <td>https://c2693b7446d1fb97949b5e8fa38fd862.ioprl...</td>\n",
              "      <td>1</td>\n",
              "    </tr>\n",
              "    <tr>\n",
              "      <th>2</th>\n",
              "      <td>https://arub8010.page.link/Zi7X</td>\n",
              "      <td>1</td>\n",
              "    </tr>\n",
              "    <tr>\n",
              "      <th>3</th>\n",
              "      <td>https://kundeservice-pa-nett-2024-b30588538836...</td>\n",
              "      <td>1</td>\n",
              "    </tr>\n",
              "    <tr>\n",
              "      <th>4</th>\n",
              "      <td>https://shorturl.at/eilrS</td>\n",
              "      <td>1</td>\n",
              "    </tr>\n",
              "  </tbody>\n",
              "</table>\n",
              "</div>\n",
              "    <div class=\"colab-df-buttons\">\n",
              "\n",
              "  <div class=\"colab-df-container\">\n",
              "    <button class=\"colab-df-convert\" onclick=\"convertToInteractive('df-e6553892-206b-4d6d-a372-7f40e35a3e49')\"\n",
              "            title=\"Convert this dataframe to an interactive table.\"\n",
              "            style=\"display:none;\">\n",
              "\n",
              "  <svg xmlns=\"http://www.w3.org/2000/svg\" height=\"24px\" viewBox=\"0 -960 960 960\">\n",
              "    <path d=\"M120-120v-720h720v720H120Zm60-500h600v-160H180v160Zm220 220h160v-160H400v160Zm0 220h160v-160H400v160ZM180-400h160v-160H180v160Zm440 0h160v-160H620v160ZM180-180h160v-160H180v160Zm440 0h160v-160H620v160Z\"/>\n",
              "  </svg>\n",
              "    </button>\n",
              "\n",
              "  <style>\n",
              "    .colab-df-container {\n",
              "      display:flex;\n",
              "      gap: 12px;\n",
              "    }\n",
              "\n",
              "    .colab-df-convert {\n",
              "      background-color: #E8F0FE;\n",
              "      border: none;\n",
              "      border-radius: 50%;\n",
              "      cursor: pointer;\n",
              "      display: none;\n",
              "      fill: #1967D2;\n",
              "      height: 32px;\n",
              "      padding: 0 0 0 0;\n",
              "      width: 32px;\n",
              "    }\n",
              "\n",
              "    .colab-df-convert:hover {\n",
              "      background-color: #E2EBFA;\n",
              "      box-shadow: 0px 1px 2px rgba(60, 64, 67, 0.3), 0px 1px 3px 1px rgba(60, 64, 67, 0.15);\n",
              "      fill: #174EA6;\n",
              "    }\n",
              "\n",
              "    .colab-df-buttons div {\n",
              "      margin-bottom: 4px;\n",
              "    }\n",
              "\n",
              "    [theme=dark] .colab-df-convert {\n",
              "      background-color: #3B4455;\n",
              "      fill: #D2E3FC;\n",
              "    }\n",
              "\n",
              "    [theme=dark] .colab-df-convert:hover {\n",
              "      background-color: #434B5C;\n",
              "      box-shadow: 0px 1px 3px 1px rgba(0, 0, 0, 0.15);\n",
              "      filter: drop-shadow(0px 1px 2px rgba(0, 0, 0, 0.3));\n",
              "      fill: #FFFFFF;\n",
              "    }\n",
              "  </style>\n",
              "\n",
              "    <script>\n",
              "      const buttonEl =\n",
              "        document.querySelector('#df-e6553892-206b-4d6d-a372-7f40e35a3e49 button.colab-df-convert');\n",
              "      buttonEl.style.display =\n",
              "        google.colab.kernel.accessAllowed ? 'block' : 'none';\n",
              "\n",
              "      async function convertToInteractive(key) {\n",
              "        const element = document.querySelector('#df-e6553892-206b-4d6d-a372-7f40e35a3e49');\n",
              "        const dataTable =\n",
              "          await google.colab.kernel.invokeFunction('convertToInteractive',\n",
              "                                                    [key], {});\n",
              "        if (!dataTable) return;\n",
              "\n",
              "        const docLinkHtml = 'Like what you see? Visit the ' +\n",
              "          '<a target=\"_blank\" href=https://colab.research.google.com/notebooks/data_table.ipynb>data table notebook</a>'\n",
              "          + ' to learn more about interactive tables.';\n",
              "        element.innerHTML = '';\n",
              "        dataTable['output_type'] = 'display_data';\n",
              "        await google.colab.output.renderOutput(dataTable, element);\n",
              "        const docLink = document.createElement('div');\n",
              "        docLink.innerHTML = docLinkHtml;\n",
              "        element.appendChild(docLink);\n",
              "      }\n",
              "    </script>\n",
              "  </div>\n",
              "\n",
              "\n",
              "<div id=\"df-7f80e5bf-f742-411a-bdb4-d69b2953340d\">\n",
              "  <button class=\"colab-df-quickchart\" onclick=\"quickchart('df-7f80e5bf-f742-411a-bdb4-d69b2953340d')\"\n",
              "            title=\"Suggest charts\"\n",
              "            style=\"display:none;\">\n",
              "\n",
              "<svg xmlns=\"http://www.w3.org/2000/svg\" height=\"24px\"viewBox=\"0 0 24 24\"\n",
              "     width=\"24px\">\n",
              "    <g>\n",
              "        <path d=\"M19 3H5c-1.1 0-2 .9-2 2v14c0 1.1.9 2 2 2h14c1.1 0 2-.9 2-2V5c0-1.1-.9-2-2-2zM9 17H7v-7h2v7zm4 0h-2V7h2v10zm4 0h-2v-4h2v4z\"/>\n",
              "    </g>\n",
              "</svg>\n",
              "  </button>\n",
              "\n",
              "<style>\n",
              "  .colab-df-quickchart {\n",
              "      --bg-color: #E8F0FE;\n",
              "      --fill-color: #1967D2;\n",
              "      --hover-bg-color: #E2EBFA;\n",
              "      --hover-fill-color: #174EA6;\n",
              "      --disabled-fill-color: #AAA;\n",
              "      --disabled-bg-color: #DDD;\n",
              "  }\n",
              "\n",
              "  [theme=dark] .colab-df-quickchart {\n",
              "      --bg-color: #3B4455;\n",
              "      --fill-color: #D2E3FC;\n",
              "      --hover-bg-color: #434B5C;\n",
              "      --hover-fill-color: #FFFFFF;\n",
              "      --disabled-bg-color: #3B4455;\n",
              "      --disabled-fill-color: #666;\n",
              "  }\n",
              "\n",
              "  .colab-df-quickchart {\n",
              "    background-color: var(--bg-color);\n",
              "    border: none;\n",
              "    border-radius: 50%;\n",
              "    cursor: pointer;\n",
              "    display: none;\n",
              "    fill: var(--fill-color);\n",
              "    height: 32px;\n",
              "    padding: 0;\n",
              "    width: 32px;\n",
              "  }\n",
              "\n",
              "  .colab-df-quickchart:hover {\n",
              "    background-color: var(--hover-bg-color);\n",
              "    box-shadow: 0 1px 2px rgba(60, 64, 67, 0.3), 0 1px 3px 1px rgba(60, 64, 67, 0.15);\n",
              "    fill: var(--button-hover-fill-color);\n",
              "  }\n",
              "\n",
              "  .colab-df-quickchart-complete:disabled,\n",
              "  .colab-df-quickchart-complete:disabled:hover {\n",
              "    background-color: var(--disabled-bg-color);\n",
              "    fill: var(--disabled-fill-color);\n",
              "    box-shadow: none;\n",
              "  }\n",
              "\n",
              "  .colab-df-spinner {\n",
              "    border: 2px solid var(--fill-color);\n",
              "    border-color: transparent;\n",
              "    border-bottom-color: var(--fill-color);\n",
              "    animation:\n",
              "      spin 1s steps(1) infinite;\n",
              "  }\n",
              "\n",
              "  @keyframes spin {\n",
              "    0% {\n",
              "      border-color: transparent;\n",
              "      border-bottom-color: var(--fill-color);\n",
              "      border-left-color: var(--fill-color);\n",
              "    }\n",
              "    20% {\n",
              "      border-color: transparent;\n",
              "      border-left-color: var(--fill-color);\n",
              "      border-top-color: var(--fill-color);\n",
              "    }\n",
              "    30% {\n",
              "      border-color: transparent;\n",
              "      border-left-color: var(--fill-color);\n",
              "      border-top-color: var(--fill-color);\n",
              "      border-right-color: var(--fill-color);\n",
              "    }\n",
              "    40% {\n",
              "      border-color: transparent;\n",
              "      border-right-color: var(--fill-color);\n",
              "      border-top-color: var(--fill-color);\n",
              "    }\n",
              "    60% {\n",
              "      border-color: transparent;\n",
              "      border-right-color: var(--fill-color);\n",
              "    }\n",
              "    80% {\n",
              "      border-color: transparent;\n",
              "      border-right-color: var(--fill-color);\n",
              "      border-bottom-color: var(--fill-color);\n",
              "    }\n",
              "    90% {\n",
              "      border-color: transparent;\n",
              "      border-bottom-color: var(--fill-color);\n",
              "    }\n",
              "  }\n",
              "</style>\n",
              "\n",
              "  <script>\n",
              "    async function quickchart(key) {\n",
              "      const quickchartButtonEl =\n",
              "        document.querySelector('#' + key + ' button');\n",
              "      quickchartButtonEl.disabled = true;  // To prevent multiple clicks.\n",
              "      quickchartButtonEl.classList.add('colab-df-spinner');\n",
              "      try {\n",
              "        const charts = await google.colab.kernel.invokeFunction(\n",
              "            'suggestCharts', [key], {});\n",
              "      } catch (error) {\n",
              "        console.error('Error during call to suggestCharts:', error);\n",
              "      }\n",
              "      quickchartButtonEl.classList.remove('colab-df-spinner');\n",
              "      quickchartButtonEl.classList.add('colab-df-quickchart-complete');\n",
              "    }\n",
              "    (() => {\n",
              "      let quickchartButtonEl =\n",
              "        document.querySelector('#df-7f80e5bf-f742-411a-bdb4-d69b2953340d button');\n",
              "      quickchartButtonEl.style.display =\n",
              "        google.colab.kernel.accessAllowed ? 'block' : 'none';\n",
              "    })();\n",
              "  </script>\n",
              "</div>\n",
              "\n",
              "    </div>\n",
              "  </div>\n"
            ],
            "application/vnd.google.colaboratory.intrinsic+json": {
              "type": "dataframe",
              "variable_name": "df"
            }
          },
          "metadata": {},
          "execution_count": 3
        }
      ]
    },
    {
      "cell_type": "code",
      "source": [
        "df.tail()"
      ],
      "metadata": {
        "colab": {
          "base_uri": "https://localhost:8080/",
          "height": 206
        },
        "id": "mi_ciGCdy8BJ",
        "outputId": "76e7b69c-bfa2-4f87-8b24-feb796f0775b"
      },
      "execution_count": null,
      "outputs": [
        {
          "output_type": "execute_result",
          "data": {
            "text/plain": [
              "                                                      url  status\n",
              "784757                           https://www.klikbca.com/       0\n",
              "784758                       https://www.bni.co.id/id-id/       0\n",
              "784759  https://bnidirect.bni.co.id/corp/common/login....       0\n",
              "784760        https://www.youtube.com/watch?v=MZy0z_OGXmw       0\n",
              "784761                        https://www.kaist.ac.kr/en/       0"
            ],
            "text/html": [
              "\n",
              "  <div id=\"df-3291be0e-19df-4d90-9467-8959ebd01420\" class=\"colab-df-container\">\n",
              "    <div>\n",
              "<style scoped>\n",
              "    .dataframe tbody tr th:only-of-type {\n",
              "        vertical-align: middle;\n",
              "    }\n",
              "\n",
              "    .dataframe tbody tr th {\n",
              "        vertical-align: top;\n",
              "    }\n",
              "\n",
              "    .dataframe thead th {\n",
              "        text-align: right;\n",
              "    }\n",
              "</style>\n",
              "<table border=\"1\" class=\"dataframe\">\n",
              "  <thead>\n",
              "    <tr style=\"text-align: right;\">\n",
              "      <th></th>\n",
              "      <th>url</th>\n",
              "      <th>status</th>\n",
              "    </tr>\n",
              "  </thead>\n",
              "  <tbody>\n",
              "    <tr>\n",
              "      <th>784757</th>\n",
              "      <td>https://www.klikbca.com/</td>\n",
              "      <td>0</td>\n",
              "    </tr>\n",
              "    <tr>\n",
              "      <th>784758</th>\n",
              "      <td>https://www.bni.co.id/id-id/</td>\n",
              "      <td>0</td>\n",
              "    </tr>\n",
              "    <tr>\n",
              "      <th>784759</th>\n",
              "      <td>https://bnidirect.bni.co.id/corp/common/login....</td>\n",
              "      <td>0</td>\n",
              "    </tr>\n",
              "    <tr>\n",
              "      <th>784760</th>\n",
              "      <td>https://www.youtube.com/watch?v=MZy0z_OGXmw</td>\n",
              "      <td>0</td>\n",
              "    </tr>\n",
              "    <tr>\n",
              "      <th>784761</th>\n",
              "      <td>https://www.kaist.ac.kr/en/</td>\n",
              "      <td>0</td>\n",
              "    </tr>\n",
              "  </tbody>\n",
              "</table>\n",
              "</div>\n",
              "    <div class=\"colab-df-buttons\">\n",
              "\n",
              "  <div class=\"colab-df-container\">\n",
              "    <button class=\"colab-df-convert\" onclick=\"convertToInteractive('df-3291be0e-19df-4d90-9467-8959ebd01420')\"\n",
              "            title=\"Convert this dataframe to an interactive table.\"\n",
              "            style=\"display:none;\">\n",
              "\n",
              "  <svg xmlns=\"http://www.w3.org/2000/svg\" height=\"24px\" viewBox=\"0 -960 960 960\">\n",
              "    <path d=\"M120-120v-720h720v720H120Zm60-500h600v-160H180v160Zm220 220h160v-160H400v160Zm0 220h160v-160H400v160ZM180-400h160v-160H180v160Zm440 0h160v-160H620v160ZM180-180h160v-160H180v160Zm440 0h160v-160H620v160Z\"/>\n",
              "  </svg>\n",
              "    </button>\n",
              "\n",
              "  <style>\n",
              "    .colab-df-container {\n",
              "      display:flex;\n",
              "      gap: 12px;\n",
              "    }\n",
              "\n",
              "    .colab-df-convert {\n",
              "      background-color: #E8F0FE;\n",
              "      border: none;\n",
              "      border-radius: 50%;\n",
              "      cursor: pointer;\n",
              "      display: none;\n",
              "      fill: #1967D2;\n",
              "      height: 32px;\n",
              "      padding: 0 0 0 0;\n",
              "      width: 32px;\n",
              "    }\n",
              "\n",
              "    .colab-df-convert:hover {\n",
              "      background-color: #E2EBFA;\n",
              "      box-shadow: 0px 1px 2px rgba(60, 64, 67, 0.3), 0px 1px 3px 1px rgba(60, 64, 67, 0.15);\n",
              "      fill: #174EA6;\n",
              "    }\n",
              "\n",
              "    .colab-df-buttons div {\n",
              "      margin-bottom: 4px;\n",
              "    }\n",
              "\n",
              "    [theme=dark] .colab-df-convert {\n",
              "      background-color: #3B4455;\n",
              "      fill: #D2E3FC;\n",
              "    }\n",
              "\n",
              "    [theme=dark] .colab-df-convert:hover {\n",
              "      background-color: #434B5C;\n",
              "      box-shadow: 0px 1px 3px 1px rgba(0, 0, 0, 0.15);\n",
              "      filter: drop-shadow(0px 1px 2px rgba(0, 0, 0, 0.3));\n",
              "      fill: #FFFFFF;\n",
              "    }\n",
              "  </style>\n",
              "\n",
              "    <script>\n",
              "      const buttonEl =\n",
              "        document.querySelector('#df-3291be0e-19df-4d90-9467-8959ebd01420 button.colab-df-convert');\n",
              "      buttonEl.style.display =\n",
              "        google.colab.kernel.accessAllowed ? 'block' : 'none';\n",
              "\n",
              "      async function convertToInteractive(key) {\n",
              "        const element = document.querySelector('#df-3291be0e-19df-4d90-9467-8959ebd01420');\n",
              "        const dataTable =\n",
              "          await google.colab.kernel.invokeFunction('convertToInteractive',\n",
              "                                                    [key], {});\n",
              "        if (!dataTable) return;\n",
              "\n",
              "        const docLinkHtml = 'Like what you see? Visit the ' +\n",
              "          '<a target=\"_blank\" href=https://colab.research.google.com/notebooks/data_table.ipynb>data table notebook</a>'\n",
              "          + ' to learn more about interactive tables.';\n",
              "        element.innerHTML = '';\n",
              "        dataTable['output_type'] = 'display_data';\n",
              "        await google.colab.output.renderOutput(dataTable, element);\n",
              "        const docLink = document.createElement('div');\n",
              "        docLink.innerHTML = docLinkHtml;\n",
              "        element.appendChild(docLink);\n",
              "      }\n",
              "    </script>\n",
              "  </div>\n",
              "\n",
              "\n",
              "<div id=\"df-d81acf9e-7919-4a70-92eb-e0053029fbd1\">\n",
              "  <button class=\"colab-df-quickchart\" onclick=\"quickchart('df-d81acf9e-7919-4a70-92eb-e0053029fbd1')\"\n",
              "            title=\"Suggest charts\"\n",
              "            style=\"display:none;\">\n",
              "\n",
              "<svg xmlns=\"http://www.w3.org/2000/svg\" height=\"24px\"viewBox=\"0 0 24 24\"\n",
              "     width=\"24px\">\n",
              "    <g>\n",
              "        <path d=\"M19 3H5c-1.1 0-2 .9-2 2v14c0 1.1.9 2 2 2h14c1.1 0 2-.9 2-2V5c0-1.1-.9-2-2-2zM9 17H7v-7h2v7zm4 0h-2V7h2v10zm4 0h-2v-4h2v4z\"/>\n",
              "    </g>\n",
              "</svg>\n",
              "  </button>\n",
              "\n",
              "<style>\n",
              "  .colab-df-quickchart {\n",
              "      --bg-color: #E8F0FE;\n",
              "      --fill-color: #1967D2;\n",
              "      --hover-bg-color: #E2EBFA;\n",
              "      --hover-fill-color: #174EA6;\n",
              "      --disabled-fill-color: #AAA;\n",
              "      --disabled-bg-color: #DDD;\n",
              "  }\n",
              "\n",
              "  [theme=dark] .colab-df-quickchart {\n",
              "      --bg-color: #3B4455;\n",
              "      --fill-color: #D2E3FC;\n",
              "      --hover-bg-color: #434B5C;\n",
              "      --hover-fill-color: #FFFFFF;\n",
              "      --disabled-bg-color: #3B4455;\n",
              "      --disabled-fill-color: #666;\n",
              "  }\n",
              "\n",
              "  .colab-df-quickchart {\n",
              "    background-color: var(--bg-color);\n",
              "    border: none;\n",
              "    border-radius: 50%;\n",
              "    cursor: pointer;\n",
              "    display: none;\n",
              "    fill: var(--fill-color);\n",
              "    height: 32px;\n",
              "    padding: 0;\n",
              "    width: 32px;\n",
              "  }\n",
              "\n",
              "  .colab-df-quickchart:hover {\n",
              "    background-color: var(--hover-bg-color);\n",
              "    box-shadow: 0 1px 2px rgba(60, 64, 67, 0.3), 0 1px 3px 1px rgba(60, 64, 67, 0.15);\n",
              "    fill: var(--button-hover-fill-color);\n",
              "  }\n",
              "\n",
              "  .colab-df-quickchart-complete:disabled,\n",
              "  .colab-df-quickchart-complete:disabled:hover {\n",
              "    background-color: var(--disabled-bg-color);\n",
              "    fill: var(--disabled-fill-color);\n",
              "    box-shadow: none;\n",
              "  }\n",
              "\n",
              "  .colab-df-spinner {\n",
              "    border: 2px solid var(--fill-color);\n",
              "    border-color: transparent;\n",
              "    border-bottom-color: var(--fill-color);\n",
              "    animation:\n",
              "      spin 1s steps(1) infinite;\n",
              "  }\n",
              "\n",
              "  @keyframes spin {\n",
              "    0% {\n",
              "      border-color: transparent;\n",
              "      border-bottom-color: var(--fill-color);\n",
              "      border-left-color: var(--fill-color);\n",
              "    }\n",
              "    20% {\n",
              "      border-color: transparent;\n",
              "      border-left-color: var(--fill-color);\n",
              "      border-top-color: var(--fill-color);\n",
              "    }\n",
              "    30% {\n",
              "      border-color: transparent;\n",
              "      border-left-color: var(--fill-color);\n",
              "      border-top-color: var(--fill-color);\n",
              "      border-right-color: var(--fill-color);\n",
              "    }\n",
              "    40% {\n",
              "      border-color: transparent;\n",
              "      border-right-color: var(--fill-color);\n",
              "      border-top-color: var(--fill-color);\n",
              "    }\n",
              "    60% {\n",
              "      border-color: transparent;\n",
              "      border-right-color: var(--fill-color);\n",
              "    }\n",
              "    80% {\n",
              "      border-color: transparent;\n",
              "      border-right-color: var(--fill-color);\n",
              "      border-bottom-color: var(--fill-color);\n",
              "    }\n",
              "    90% {\n",
              "      border-color: transparent;\n",
              "      border-bottom-color: var(--fill-color);\n",
              "    }\n",
              "  }\n",
              "</style>\n",
              "\n",
              "  <script>\n",
              "    async function quickchart(key) {\n",
              "      const quickchartButtonEl =\n",
              "        document.querySelector('#' + key + ' button');\n",
              "      quickchartButtonEl.disabled = true;  // To prevent multiple clicks.\n",
              "      quickchartButtonEl.classList.add('colab-df-spinner');\n",
              "      try {\n",
              "        const charts = await google.colab.kernel.invokeFunction(\n",
              "            'suggestCharts', [key], {});\n",
              "      } catch (error) {\n",
              "        console.error('Error during call to suggestCharts:', error);\n",
              "      }\n",
              "      quickchartButtonEl.classList.remove('colab-df-spinner');\n",
              "      quickchartButtonEl.classList.add('colab-df-quickchart-complete');\n",
              "    }\n",
              "    (() => {\n",
              "      let quickchartButtonEl =\n",
              "        document.querySelector('#df-d81acf9e-7919-4a70-92eb-e0053029fbd1 button');\n",
              "      quickchartButtonEl.style.display =\n",
              "        google.colab.kernel.accessAllowed ? 'block' : 'none';\n",
              "    })();\n",
              "  </script>\n",
              "</div>\n",
              "\n",
              "    </div>\n",
              "  </div>\n"
            ],
            "application/vnd.google.colaboratory.intrinsic+json": {
              "type": "dataframe",
              "summary": "{\n  \"name\": \"df\",\n  \"rows\": 5,\n  \"fields\": [\n    {\n      \"column\": \"url\",\n      \"properties\": {\n        \"dtype\": \"string\",\n        \"num_unique_values\": 5,\n        \"samples\": [\n          \"https://www.bni.co.id/id-id/\",\n          \"https://www.kaist.ac.kr/en/\",\n          \"https://bnidirect.bni.co.id/corp/common/login.do?action=loginRequest\"\n        ],\n        \"semantic_type\": \"\",\n        \"description\": \"\"\n      }\n    },\n    {\n      \"column\": \"status\",\n      \"properties\": {\n        \"dtype\": \"number\",\n        \"std\": 0,\n        \"min\": 0,\n        \"max\": 0,\n        \"num_unique_values\": 1,\n        \"samples\": [\n          0\n        ],\n        \"semantic_type\": \"\",\n        \"description\": \"\"\n      }\n    }\n  ]\n}"
            }
          },
          "metadata": {},
          "execution_count": 4
        }
      ]
    },
    {
      "cell_type": "code",
      "source": [
        "import tensorflow as tf\n",
        "from tensorflow import keras"
      ],
      "metadata": {
        "id": "5IaZ1kHPzGsF"
      },
      "execution_count": null,
      "outputs": []
    },
    {
      "cell_type": "code",
      "source": [
        "df.iloc[1]"
      ],
      "metadata": {
        "colab": {
          "base_uri": "https://localhost:8080/"
        },
        "id": "5tDNbg9DLwVg",
        "outputId": "69f1ed65-46c8-42d9-8956-19bb753bd702"
      },
      "execution_count": null,
      "outputs": [
        {
          "output_type": "execute_result",
          "data": {
            "text/plain": [
              "url       https://c2693b7446d1fb97949b5e8fa38fd862.ioprl...\n",
              "status                                                    1\n",
              "Name: 1, dtype: object"
            ]
          },
          "metadata": {},
          "execution_count": 6
        }
      ]
    },
    {
      "cell_type": "code",
      "source": [
        "df.iloc[2]"
      ],
      "metadata": {
        "colab": {
          "base_uri": "https://localhost:8080/"
        },
        "id": "XVOx5qa4MEGx",
        "outputId": "d97129e3-0692-4238-faf2-b72469a52401"
      },
      "execution_count": null,
      "outputs": [
        {
          "output_type": "execute_result",
          "data": {
            "text/plain": [
              "url       https://arub8010.page.link/Zi7X\n",
              "status                                  1\n",
              "Name: 2, dtype: object"
            ]
          },
          "metadata": {},
          "execution_count": 7
        }
      ]
    },
    {
      "cell_type": "code",
      "source": [
        "df.iloc[3]"
      ],
      "metadata": {
        "colab": {
          "base_uri": "https://localhost:8080/"
        },
        "id": "xmgWfBcJMNrl",
        "outputId": "8a7fa4f5-1c70-4d12-9374-a27ad823c938"
      },
      "execution_count": null,
      "outputs": [
        {
          "output_type": "execute_result",
          "data": {
            "text/plain": [
              "url       https://kundeservice-pa-nett-2024-b30588538836...\n",
              "status                                                    1\n",
              "Name: 3, dtype: object"
            ]
          },
          "metadata": {},
          "execution_count": 8
        }
      ]
    },
    {
      "cell_type": "code",
      "source": [
        "df.iloc[0]"
      ],
      "metadata": {
        "colab": {
          "base_uri": "https://localhost:8080/"
        },
        "id": "w_FdSCTDfrBe",
        "outputId": "f1bae9bb-8c3d-4cef-ed71-224de581622e"
      },
      "execution_count": null,
      "outputs": [
        {
          "output_type": "execute_result",
          "data": {
            "text/plain": [
              "url       https://cm4.bogumilszymon.warszawa.pl/petermar...\n",
              "status                                                    1\n",
              "Name: 0, dtype: object"
            ]
          },
          "metadata": {},
          "execution_count": 9
        }
      ]
    },
    {
      "cell_type": "code",
      "source": [
        "df.iloc[738128]"
      ],
      "metadata": {
        "colab": {
          "base_uri": "https://localhost:8080/"
        },
        "id": "Af0JAYuVMSIg",
        "outputId": "88527139-3bf9-43b9-feda-c963ea4916c6"
      },
      "execution_count": null,
      "outputs": [
        {
          "output_type": "execute_result",
          "data": {
            "text/plain": [
              "url       https://tekkom.upi.edu/\n",
              "status                          0\n",
              "Name: 738128, dtype: object"
            ]
          },
          "metadata": {},
          "execution_count": 10
        }
      ]
    },
    {
      "cell_type": "code",
      "source": [
        "df.iloc[392443]"
      ],
      "metadata": {
        "colab": {
          "base_uri": "https://localhost:8080/"
        },
        "id": "1DLsna3PMZSF",
        "outputId": "4fe8b246-cefd-45d2-9b02-95e8e082c6fb"
      },
      "execution_count": null,
      "outputs": [
        {
          "output_type": "execute_result",
          "data": {
            "text/plain": [
              "url       https://www.github.com\n",
              "status                         0\n",
              "Name: 392443, dtype: object"
            ]
          },
          "metadata": {},
          "execution_count": 11
        }
      ]
    },
    {
      "cell_type": "code",
      "source": [
        "df.iloc[392411]"
      ],
      "metadata": {
        "colab": {
          "base_uri": "https://localhost:8080/"
        },
        "id": "5l5YBshhMcre",
        "outputId": "a8502555-0c19-4cc3-df16-5253caddbace"
      },
      "execution_count": null,
      "outputs": [
        {
          "output_type": "execute_result",
          "data": {
            "text/plain": [
              "url       https://www.linkedin.com\n",
              "status                           0\n",
              "Name: 392411, dtype: object"
            ]
          },
          "metadata": {},
          "execution_count": 12
        }
      ]
    },
    {
      "cell_type": "code",
      "source": [
        "df.iloc[784756]"
      ],
      "metadata": {
        "colab": {
          "base_uri": "https://localhost:8080/"
        },
        "id": "iEyWyxGEf8pc",
        "outputId": "b71e480c-da9f-4df3-95a9-2e4354b92c39"
      },
      "execution_count": null,
      "outputs": [
        {
          "output_type": "execute_result",
          "data": {
            "text/plain": [
              "url       https://www.bca.co.id/\n",
              "status                         0\n",
              "Name: 784756, dtype: object"
            ]
          },
          "metadata": {},
          "execution_count": 13
        }
      ]
    },
    {
      "cell_type": "code",
      "source": [
        "keywords = ['https', 'login', '.php', '.html', '@', 'sign']\n",
        "for keyword in keywords:\n",
        "    df['keyword_' + keyword] = df.url.str.contains(keyword).astype(int)\n",
        "df['lenght'] = df.url.str.len() - 2\n",
        "domain = df.url.str.split('/', expand=True).iloc[:, 2]\n",
        "df['lenght_domain'] = domain.str.len()\n",
        "df['count_com'] = df.url.str.count('com')\n",
        "\n",
        "X = df.drop(['url', 'status'], axis=1)\n",
        "y = df.status"
      ],
      "metadata": {
        "id": "Z_TVUy7p5Gz8"
      },
      "execution_count": null,
      "outputs": []
    },
    {
      "cell_type": "code",
      "source": [
        "X = df['url'].tolist()"
      ],
      "metadata": {
        "id": "SDFgEBY-3C4D"
      },
      "execution_count": null,
      "outputs": []
    },
    {
      "cell_type": "code",
      "source": [
        "voc = set(''.join(X))\n",
        "vocabulary = {x: idx + 1 for idx, x in enumerate(set(voc))}"
      ],
      "metadata": {
        "id": "9jbk5doO3W8b"
      },
      "execution_count": null,
      "outputs": []
    },
    {
      "cell_type": "code",
      "source": [
        "max_url_len = 150\n",
        "X = [x[:max_url_len] for x in X]\n",
        "X = [[vocabulary[x1] for x1 in x if x1 in vocabulary.keys()] for x in X]"
      ],
      "metadata": {
        "id": "hDF5i-as3aj8"
      },
      "execution_count": null,
      "outputs": []
    },
    {
      "cell_type": "code",
      "source": [
        "len(X)"
      ],
      "metadata": {
        "colab": {
          "base_uri": "https://localhost:8080/"
        },
        "id": "59dq6ll13hK-",
        "outputId": "6fe91384-44e6-4db8-c479-5ef846335e3a"
      },
      "execution_count": null,
      "outputs": [
        {
          "output_type": "execute_result",
          "data": {
            "text/plain": [
              "784762"
            ]
          },
          "metadata": {},
          "execution_count": 18
        }
      ]
    },
    {
      "cell_type": "code",
      "source": [
        "from keras.models import Sequential\n",
        "from keras.preprocessing import sequence"
      ],
      "metadata": {
        "id": "aPXmJxPh3mNX"
      },
      "execution_count": null,
      "outputs": []
    },
    {
      "cell_type": "code",
      "source": [
        "X_pad = sequence.pad_sequences(X, maxlen=max_url_len)"
      ],
      "metadata": {
        "id": "KZKE5k_u36TK"
      },
      "execution_count": null,
      "outputs": []
    },
    {
      "cell_type": "code",
      "source": [
        "X_pad"
      ],
      "metadata": {
        "colab": {
          "base_uri": "https://localhost:8080/"
        },
        "id": "opoKSHVp75QC",
        "outputId": "e64d03ee-af31-442d-a42b-4d81a6a181de"
      },
      "execution_count": null,
      "outputs": [
        {
          "output_type": "execute_result",
          "data": {
            "text/plain": [
              "array([[  0,   0,   0, ..., 178,  84, 185],\n",
              "       [  0,   0,   0, ...,  81,  53,   6],\n",
              "       [  0,   0,   0, ..., 103, 196,  62],\n",
              "       ...,\n",
              "       [  0,   0,   0, ..., 181, 127,   1],\n",
              "       [  0,   0,   0, ...,  62, 185, 176],\n",
              "       [  0,   0,   0, ..., 181,  81,  53]], dtype=int32)"
            ]
          },
          "metadata": {},
          "execution_count": 21
        }
      ]
    },
    {
      "cell_type": "code",
      "source": [
        "X_pad[1]"
      ],
      "metadata": {
        "colab": {
          "base_uri": "https://localhost:8080/"
        },
        "id": "svCYa_WeNENF",
        "outputId": "336e23b8-c018-4523-ae06-5f0c6b5fe0de"
      },
      "execution_count": null,
      "outputs": [
        {
          "output_type": "execute_result",
          "data": {
            "text/plain": [
              "array([  0,   0,   0,   0,   0,   0,   0,   0,   0,   0,   0,   0,   0,\n",
              "         0,   0,   0,   0,   0,   0,   0,   0,   0,   0,   0,   0,   0,\n",
              "         0,   0,   0,   0,   0,   0,   0,   0,   0,   0,   0,   0,   0,\n",
              "         0,   0,   0,   0,   0,   0,   0,   0,   0,   0,  92,   1,   1,\n",
              "        13, 127, 156,  53,  53, 178, 190, 158,  82,  49, 162, 196,  95,\n",
              "        95, 158,  47, 149, 124, 162,  82, 196,  82,  95,  82, 162, 113,\n",
              "       181, 145, 124, 100,  49, 145, 124,  47, 145, 158, 190, 179, 103,\n",
              "        84,  13,  56,  30, 179,  13,  30,  53, 121,  36,  12,  53,  31,\n",
              "        64, 190,  30,  49,  64,  53,  49, 113,  82, 196, 145, 178, 100,\n",
              "       181, 113, 158, 158, 100,  49, 124, 124, 124,  49,  95, 100, 178,\n",
              "       178, 145, 196, 149, 181, 100, 196,  47,  49, 181, 158, 158,  53,\n",
              "        30,  84,  31, 103,  81,  53,   6], dtype=int32)"
            ]
          },
          "metadata": {},
          "execution_count": 22
        }
      ]
    },
    {
      "cell_type": "code",
      "source": [
        "X_pad[2]"
      ],
      "metadata": {
        "colab": {
          "base_uri": "https://localhost:8080/"
        },
        "id": "RlJ2BjkLNG55",
        "outputId": "2400da37-a767-4d2b-d523-536d1def41d6"
      },
      "execution_count": null,
      "outputs": [
        {
          "output_type": "execute_result",
          "data": {
            "text/plain": [
              "array([  0,   0,   0,   0,   0,   0,   0,   0,   0,   0,   0,   0,   0,\n",
              "         0,   0,   0,   0,   0,   0,   0,   0,   0,   0,   0,   0,   0,\n",
              "         0,   0,   0,   0,   0,   0,   0,   0,   0,   0,   0,   0,   0,\n",
              "         0,   0,   0,   0,   0,   0,   0,   0,   0,   0,   0,   0,   0,\n",
              "         0,   0,   0,   0,   0,   0,   0,   0,   0,   0,   0,   0,   0,\n",
              "         0,   0,   0,   0,   0,   0,   0,   0,   0,   0,   0,   0,   0,\n",
              "         0,   0,   0,   0,   0,   0,   0,   0,   0,   0,   0,   0,   0,\n",
              "         0,   0,   0,   0,   0,   0,   0,   0,   0,   0,   0,   0,   0,\n",
              "         0,   0,   0,   0,   0,   0,   0,   0,   0,   0,   0,   0,   0,\n",
              "         0,   0,  92,   1,   1,  13, 127, 156,  53,  53, 100,  56, 143,\n",
              "       162, 145,  64, 149,  64, 179,  13, 100,  31, 181, 179,  30, 103,\n",
              "        81,  16,  53,  28, 103, 196,  62], dtype=int32)"
            ]
          },
          "metadata": {},
          "execution_count": 23
        }
      ]
    },
    {
      "cell_type": "code",
      "source": [
        "X_pad[3]"
      ],
      "metadata": {
        "colab": {
          "base_uri": "https://localhost:8080/"
        },
        "id": "0gkQaidoNLYX",
        "outputId": "b0d01202-3ad3-4a76-ca76-457e795aa6bf"
      },
      "execution_count": null,
      "outputs": [
        {
          "output_type": "execute_result",
          "data": {
            "text/plain": [
              "array([  0,   0,   0,   0,   0,   0,   0,   0,   0,   0,   0,   0,   0,\n",
              "         0,   0,   0,   0,   0,   0,   0,   0,   0,   0,   0,   0,   0,\n",
              "         0,   0,   0,   0,   0,   0,   0,   0,   0,   0,   0,   0,   0,\n",
              "         0,   0,   0,   0,   0,   0,   0,   0,   0,   0,   0,   0,   0,\n",
              "         0,   0,   0,   0,   0,   0,   0,   0,   0,   0,   0,   0,   0,\n",
              "         0,   0,   0,   0,   0,   0,   0,   0,   0,   0,   0,   0,   0,\n",
              "         0,   0,   0,   0,   0,  92,   1,   1,  13, 127, 156,  53,  53,\n",
              "        16, 143,  81,  47, 181, 127, 181,  56, 153, 103, 178, 181, 186,\n",
              "        13, 100, 186,  81, 181,   1,   1, 186, 190,  64, 190,  95, 186,\n",
              "       162,  49,  64, 113, 145, 145, 113,  49, 145, 145,  49, 158, 149,\n",
              "       196, 179, 178,  84,  47, 181, 100,  81,  34, 100,  13,  13, 179,\n",
              "       178,  84, 185,  53,   1,  30,  53], dtype=int32)"
            ]
          },
          "metadata": {},
          "execution_count": 24
        }
      ]
    },
    {
      "cell_type": "code",
      "source": [
        "X_pad[0]"
      ],
      "metadata": {
        "colab": {
          "base_uri": "https://localhost:8080/"
        },
        "id": "cu0dfAn6NOzF",
        "outputId": "51314c18-d28c-4a1a-e857-3f2694754971"
      },
      "execution_count": null,
      "outputs": [
        {
          "output_type": "execute_result",
          "data": {
            "text/plain": [
              "array([  0,   0,   0,   0,   0,   0,   0,   0,   0,   0,   0,   0,   0,\n",
              "         0,   0,   0,   0,   0,   0,   0,   0,   0,   0,   0,   0,   0,\n",
              "         0,   0,   0,   0,   0,   0,   0,   0,   0,   0,   0,   0,   0,\n",
              "         0,   0,   0,   0,   0,   0,   0,   0,   0,   0,   0,   0,   0,\n",
              "         0,   0,   0,   0,   0,   0,   0,   0,   0,   0,   0,   0,   0,\n",
              "         0,   0,   0,   0,   0,   0,   0,   0,   0,   0,   0,   0,   0,\n",
              "         0,   0,   0,   0,  92,   1,   1,  13, 127, 156,  53,  53, 178,\n",
              "       185,  95, 179, 162,  84,  31, 143, 185, 103,  30, 127, 126,  34,\n",
              "       185,  84,  81, 179, 176, 100,  56, 127, 126, 100, 176, 100, 179,\n",
              "        13,  30,  53,  13, 181,   1, 181,  56, 185, 100,  56, 178, 181,\n",
              "        30, 103,  53, 181, 185, 100, 103,  30, 170, 181, 164, 100, 185,\n",
              "        13,  30, 181, 179, 178,  84, 185], dtype=int32)"
            ]
          },
          "metadata": {},
          "execution_count": 25
        }
      ]
    },
    {
      "cell_type": "code",
      "source": [
        "X_pad[784756]"
      ],
      "metadata": {
        "colab": {
          "base_uri": "https://localhost:8080/"
        },
        "id": "VwFWz57QNU4N",
        "outputId": "a7db9cea-123c-40d1-ff84-478b1df5e963"
      },
      "execution_count": null,
      "outputs": [
        {
          "output_type": "execute_result",
          "data": {
            "text/plain": [
              "array([  0,   0,   0,   0,   0,   0,   0,   0,   0,   0,   0,   0,   0,\n",
              "         0,   0,   0,   0,   0,   0,   0,   0,   0,   0,   0,   0,   0,\n",
              "         0,   0,   0,   0,   0,   0,   0,   0,   0,   0,   0,   0,   0,\n",
              "         0,   0,   0,   0,   0,   0,   0,   0,   0,   0,   0,   0,   0,\n",
              "         0,   0,   0,   0,   0,   0,   0,   0,   0,   0,   0,   0,   0,\n",
              "         0,   0,   0,   0,   0,   0,   0,   0,   0,   0,   0,   0,   0,\n",
              "         0,   0,   0,   0,   0,   0,   0,   0,   0,   0,   0,   0,   0,\n",
              "         0,   0,   0,   0,   0,   0,   0,   0,   0,   0,   0,   0,   0,\n",
              "         0,   0,   0,   0,   0,   0,   0,   0,   0,   0,   0,   0,   0,\n",
              "         0,   0,   0,   0,   0,   0,   0,   0,   0,   0,   0,  92,   1,\n",
              "         1,  13, 127, 156,  53,  53, 176, 176, 176, 179, 162, 178, 100,\n",
              "       179, 178,  84, 179, 103,  47,  53], dtype=int32)"
            ]
          },
          "metadata": {},
          "execution_count": 26
        }
      ]
    },
    {
      "cell_type": "code",
      "source": [
        "X_pad[738128]"
      ],
      "metadata": {
        "colab": {
          "base_uri": "https://localhost:8080/"
        },
        "id": "f6MNLVTqNXL9",
        "outputId": "3adcb159-e4d3-408e-99ed-7434e3e66606"
      },
      "execution_count": null,
      "outputs": [
        {
          "output_type": "execute_result",
          "data": {
            "text/plain": [
              "array([  0,   0,   0,   0,   0,   0,   0,   0,   0,   0,   0,   0,   0,\n",
              "         0,   0,   0,   0,   0,   0,   0,   0,   0,   0,   0,   0,   0,\n",
              "         0,   0,   0,   0,   0,   0,   0,   0,   0,   0,   0,   0,   0,\n",
              "         0,   0,   0,   0,   0,   0,   0,   0,   0,   0,   0,   0,   0,\n",
              "         0,   0,   0,   0,   0,   0,   0,   0,   0,   0,   0,   0,   0,\n",
              "         0,   0,   0,   0,   0,   0,   0,   0,   0,   0,   0,   0,   0,\n",
              "         0,   0,   0,   0,   0,   0,   0,   0,   0,   0,   0,   0,   0,\n",
              "         0,   0,   0,   0,   0,   0,   0,   0,   0,   0,   0,   0,   0,\n",
              "         0,   0,   0,   0,   0,   0,   0,   0,   0,   0,   0,   0,   0,\n",
              "         0,   0,   0,   0,   0,   0,   0,   0,   0,   0,  92,   1,   1,\n",
              "        13, 127, 156,  53,  53,   1, 181,  16,  16,  84, 185, 179, 143,\n",
              "        13, 103, 179, 181,  47, 143,  53], dtype=int32)"
            ]
          },
          "metadata": {},
          "execution_count": 27
        }
      ]
    },
    {
      "cell_type": "code",
      "source": [
        "X_pad[392443]"
      ],
      "metadata": {
        "colab": {
          "base_uri": "https://localhost:8080/"
        },
        "id": "S7uZcsMZhS3f",
        "outputId": "e5bb8b15-e81a-4867-f9c0-a544b6b0e686"
      },
      "execution_count": null,
      "outputs": [
        {
          "output_type": "execute_result",
          "data": {
            "text/plain": [
              "array([  0,   0,   0,   0,   0,   0,   0,   0,   0,   0,   0,   0,   0,\n",
              "         0,   0,   0,   0,   0,   0,   0,   0,   0,   0,   0,   0,   0,\n",
              "         0,   0,   0,   0,   0,   0,   0,   0,   0,   0,   0,   0,   0,\n",
              "         0,   0,   0,   0,   0,   0,   0,   0,   0,   0,   0,   0,   0,\n",
              "         0,   0,   0,   0,   0,   0,   0,   0,   0,   0,   0,   0,   0,\n",
              "         0,   0,   0,   0,   0,   0,   0,   0,   0,   0,   0,   0,   0,\n",
              "         0,   0,   0,   0,   0,   0,   0,   0,   0,   0,   0,   0,   0,\n",
              "         0,   0,   0,   0,   0,   0,   0,   0,   0,   0,   0,   0,   0,\n",
              "         0,   0,   0,   0,   0,   0,   0,   0,   0,   0,   0,   0,   0,\n",
              "         0,   0,   0,   0,   0,   0,   0,   0,   0,   0,   0,  92,   1,\n",
              "         1,  13, 127, 156,  53,  53, 176, 176, 176, 179,  31, 103,   1,\n",
              "        92, 143, 162, 179, 178,  84, 185], dtype=int32)"
            ]
          },
          "metadata": {},
          "execution_count": 28
        }
      ]
    },
    {
      "cell_type": "code",
      "source": [
        "X_pad[392411]"
      ],
      "metadata": {
        "colab": {
          "base_uri": "https://localhost:8080/"
        },
        "id": "R7I0sxX3hWjc",
        "outputId": "36ae3b2b-79a1-4d22-8b69-4e4a1db250da"
      },
      "execution_count": null,
      "outputs": [
        {
          "output_type": "execute_result",
          "data": {
            "text/plain": [
              "array([  0,   0,   0,   0,   0,   0,   0,   0,   0,   0,   0,   0,   0,\n",
              "         0,   0,   0,   0,   0,   0,   0,   0,   0,   0,   0,   0,   0,\n",
              "         0,   0,   0,   0,   0,   0,   0,   0,   0,   0,   0,   0,   0,\n",
              "         0,   0,   0,   0,   0,   0,   0,   0,   0,   0,   0,   0,   0,\n",
              "         0,   0,   0,   0,   0,   0,   0,   0,   0,   0,   0,   0,   0,\n",
              "         0,   0,   0,   0,   0,   0,   0,   0,   0,   0,   0,   0,   0,\n",
              "         0,   0,   0,   0,   0,   0,   0,   0,   0,   0,   0,   0,   0,\n",
              "         0,   0,   0,   0,   0,   0,   0,   0,   0,   0,   0,   0,   0,\n",
              "         0,   0,   0,   0,   0,   0,   0,   0,   0,   0,   0,   0,   0,\n",
              "         0,   0,   0,   0,   0,   0,   0,   0,   0,  92,   1,   1,  13,\n",
              "       127, 156,  53,  53, 176, 176, 176, 179,  30, 103,  81,  16, 181,\n",
              "        47, 103,  81, 179, 178,  84, 185], dtype=int32)"
            ]
          },
          "metadata": {},
          "execution_count": 29
        }
      ]
    },
    {
      "cell_type": "code",
      "source": [
        "vocabulary"
      ],
      "metadata": {
        "colab": {
          "base_uri": "https://localhost:8080/"
        },
        "id": "zj1IFgvLNf1V",
        "outputId": "5c1dd120-8bc6-4b01-9b26-11eb5162e7bb"
      },
      "execution_count": null,
      "outputs": [
        {
          "output_type": "execute_result",
          "data": {
            "text/plain": [
              "{'t': 1,\n",
              " '(': 2,\n",
              " '*': 3,\n",
              " '®': 4,\n",
              " '§': 5,\n",
              " '?': 6,\n",
              " 'í': 7,\n",
              " 'ª': 8,\n",
              " 'µ': 9,\n",
              " 'O': 10,\n",
              " '$': 11,\n",
              " 'F': 12,\n",
              " 'p': 13,\n",
              " 'Q': 14,\n",
              " 'ﾂ': 15,\n",
              " 'k': 16,\n",
              " '𝗻': 17,\n",
              " '🄽': 18,\n",
              " 'Æ': 19,\n",
              " '\\u3000': 20,\n",
              " 'V': 21,\n",
              " 'ｩ': 22,\n",
              " '•': 23,\n",
              " '>': 24,\n",
              " ';': 25,\n",
              " '\\\\': 26,\n",
              " 'ä': 27,\n",
              " 'Z': 28,\n",
              " '€': 29,\n",
              " 'l': 30,\n",
              " 'g': 31,\n",
              " '~': 32,\n",
              " 'E': 33,\n",
              " 'y': 34,\n",
              " 'Ã': 35,\n",
              " 'M': 36,\n",
              " '\\x82': 37,\n",
              " '\\xad': 38,\n",
              " 'à': 39,\n",
              " 'T': 40,\n",
              " '𝘁': 41,\n",
              " '𝗼': 42,\n",
              " '傅': 43,\n",
              " 'ƒ': 44,\n",
              " '‚': 45,\n",
              " '–': 46,\n",
              " 'd': 47,\n",
              " 'P': 48,\n",
              " '3': 49,\n",
              " '<': 50,\n",
              " '³': 51,\n",
              " 'Þ': 52,\n",
              " '/': 53,\n",
              " 'ü': 54,\n",
              " '\\x91': 55,\n",
              " 'r': 56,\n",
              " 'G': 57,\n",
              " 'ç': 58,\n",
              " 'ñ': 59,\n",
              " '©': 60,\n",
              " 'œ': 61,\n",
              " 'X': 62,\n",
              " ' ': 63,\n",
              " '0': 64,\n",
              " '注': 65,\n",
              " '\"': 66,\n",
              " \"'\": 67,\n",
              " '‹': 68,\n",
              " '🅇': 69,\n",
              " '𝗵': 70,\n",
              " 'ﾃ': 71,\n",
              " 'D': 72,\n",
              " 'ê': 73,\n",
              " 'ö': 74,\n",
              " '\\x83': 75,\n",
              " 'づ': 76,\n",
              " '×': 77,\n",
              " '🅉': 78,\n",
              " '&': 79,\n",
              " 'Ö': 80,\n",
              " 'n': 81,\n",
              " '9': 82,\n",
              " '´': 83,\n",
              " 'o': 84,\n",
              " 'Y': 85,\n",
              " '^': 86,\n",
              " '∕': 87,\n",
              " '¼': 88,\n",
              " 'W': 89,\n",
              " 'S': 90,\n",
              " '｡': 91,\n",
              " 'h': 92,\n",
              " '拠': 93,\n",
              " 'J': 94,\n",
              " '4': 95,\n",
              " '»': 96,\n",
              " '¡': 97,\n",
              " 'î': 98,\n",
              " 'â': 99,\n",
              " 'a': 100,\n",
              " '¿': 101,\n",
              " 'É': 102,\n",
              " 'i': 103,\n",
              " 'K': 104,\n",
              " '‰': 105,\n",
              " '}': 106,\n",
              " '{': 107,\n",
              " 'ô': 108,\n",
              " 'ó': 109,\n",
              " '¹': 110,\n",
              " '𝗸': 111,\n",
              " 'I': 112,\n",
              " '5': 113,\n",
              " 'ｱ': 114,\n",
              " '𝗰': 115,\n",
              " '_': 116,\n",
              " ',': 117,\n",
              " 'ｯ': 118,\n",
              " '°': 119,\n",
              " 'H': 120,\n",
              " 'N': 121,\n",
              " '#': 122,\n",
              " '’': 123,\n",
              " 'f': 124,\n",
              " 'ï': 125,\n",
              " 'z': 126,\n",
              " 's': 127,\n",
              " 'é': 128,\n",
              " 'ë': 129,\n",
              " '=': 130,\n",
              " '™': 131,\n",
              " '—': 132,\n",
              " 'Â': 133,\n",
              " '…': 134,\n",
              " '\\x7f': 135,\n",
              " '册': 136,\n",
              " '\\n': 137,\n",
              " 'q': 138,\n",
              " 'つ': 139,\n",
              " '+': 140,\n",
              " '\\xa0': 141,\n",
              " 'ｿ': 142,\n",
              " 'u': 143,\n",
              " 'ｽ': 144,\n",
              " '8': 145,\n",
              " '\\uf8f0': 146,\n",
              " 'ã': 147,\n",
              " 'R': 148,\n",
              " '1': 149,\n",
              " '`': 150,\n",
              " '“': 151,\n",
              " '!': 152,\n",
              " 'v': 153,\n",
              " 'ﾎ': 154,\n",
              " 'δ': 155,\n",
              " ':': 156,\n",
              " 'š': 157,\n",
              " '6': 158,\n",
              " '¸': 159,\n",
              " ']': 160,\n",
              " 'ｵ': 161,\n",
              " 'b': 162,\n",
              " 'á': 163,\n",
              " 'x': 164,\n",
              " '\\ufeff': 165,\n",
              " 'A': 166,\n",
              " 'ε': 167,\n",
              " '🅈': 168,\n",
              " '¨': 169,\n",
              " '@': 170,\n",
              " 'C': 171,\n",
              " 'ß': 172,\n",
              " 'æ': 173,\n",
              " 'Î': 174,\n",
              " 'û': 175,\n",
              " 'w': 176,\n",
              " '”': 177,\n",
              " 'c': 178,\n",
              " '.': 179,\n",
              " '\\x17': 180,\n",
              " 'e': 181,\n",
              " 'å': 182,\n",
              " '\\x13': 183,\n",
              " '¤': 184,\n",
              " 'm': 185,\n",
              " '-': 186,\n",
              " 'ž': 187,\n",
              " 'L': 188,\n",
              " '|': 189,\n",
              " '2': 190,\n",
              " 'j': 191,\n",
              " 'Ò': 192,\n",
              " '[': 193,\n",
              " 'è': 194,\n",
              " '½': 195,\n",
              " '7': 196,\n",
              " 'U': 197,\n",
              " '🄲': 198,\n",
              " ')': 199,\n",
              " '%': 200,\n",
              " 'B': 201}"
            ]
          },
          "metadata": {},
          "execution_count": 30
        }
      ]
    },
    {
      "cell_type": "code",
      "source": [
        "import json\n",
        "import pickle\n",
        "import pandas as pd\n",
        "from google.colab import drive\n",
        "\n",
        "vocabulary_json_path = '/content/drive/My Drive/20/vocabdatasetskripsi.json'\n",
        "with open(vocabulary_json_path, 'w') as json_file:\n",
        "    json.dump(vocabulary, json_file)"
      ],
      "metadata": {
        "id": "h5jeSTxINhLI"
      },
      "execution_count": null,
      "outputs": []
    },
    {
      "cell_type": "code",
      "source": [
        "from sklearn.model_selection import train_test_split\n",
        "from sklearn.metrics import confusion_matrix, classification_report,ConfusionMatrixDisplay"
      ],
      "metadata": {
        "id": "yLlgzTBn4maL"
      },
      "execution_count": null,
      "outputs": []
    },
    {
      "cell_type": "code",
      "source": [
        "X_train, X_test, y_train, y_test, train_idx, test_idx = train_test_split(X_pad, y, df.index, test_size=0.2, random_state=42)"
      ],
      "metadata": {
        "id": "waV04lupAH8L"
      },
      "execution_count": null,
      "outputs": []
    },
    {
      "cell_type": "code",
      "source": [
        "from google.colab import drive\n",
        "drive.mount('/content/drive')\n",
        "\n",
        "df_train = df.iloc[train_idx]\n",
        "df_test = df.iloc[test_idx]\n",
        "\n",
        "file_path = '/content/drive/My Drive/20/test_datasetskripsi.csv'\n",
        "df_test.to_csv(file_path, index=False)\n",
        "\n",
        "file_path = '/content/drive/My Drive/20/train_datasetskripsi.csv'\n",
        "df_train.to_csv(file_path, index=False)\n",
        "\n",
        "print(f\"File saved to {file_path}\")"
      ],
      "metadata": {
        "colab": {
          "base_uri": "https://localhost:8080/"
        },
        "id": "pMDgaBZQOAmS",
        "outputId": "73d77233-eb52-42c0-a18f-892ebc286929"
      },
      "execution_count": null,
      "outputs": [
        {
          "output_type": "stream",
          "name": "stdout",
          "text": [
            "Drive already mounted at /content/drive; to attempt to forcibly remount, call drive.mount(\"/content/drive\", force_remount=True).\n",
            "File saved to /content/drive/My Drive/20/train_datasetskripsi.csv\n"
          ]
        }
      ]
    },
    {
      "cell_type": "code",
      "source": [
        "print(\"Jumlah sampel di X_train:\", len(X_train))\n",
        "print(\"Jumlah sampel di X_test:\", len(X_test))\n",
        "print(\"Jumlah sampel di y_train:\", len(y_train))\n",
        "print(\"Jumlah sampel di y_test:\", len(y_test))"
      ],
      "metadata": {
        "colab": {
          "base_uri": "https://localhost:8080/"
        },
        "id": "4yukg8mTN67C",
        "outputId": "4eb7833b-28e9-4b2f-fd41-87c47069f598"
      },
      "execution_count": null,
      "outputs": [
        {
          "output_type": "stream",
          "name": "stdout",
          "text": [
            "Jumlah sampel di X_train: 627809\n",
            "Jumlah sampel di X_test: 156953\n",
            "Jumlah sampel di y_train: 627809\n",
            "Jumlah sampel di y_test: 156953\n"
          ]
        }
      ]
    },
    {
      "cell_type": "code",
      "source": [
        "from keras.layers import Embedding\n",
        "from keras.layers import LSTM\n",
        "from keras.layers import Dense, Dropout"
      ],
      "metadata": {
        "id": "TD--5YFq8hdQ"
      },
      "execution_count": null,
      "outputs": []
    },
    {
      "cell_type": "code",
      "source": [
        "model = Sequential()\n",
        "model.add(Embedding(len(vocabulary) + 1, 128, input_length=max_url_len))\n",
        "model.add(LSTM(32))\n",
        "model.add(Dropout(0.5))\n",
        "model.add(Dense(1, activation='sigmoid'))\n",
        "model.compile(loss='binary_crossentropy', optimizer='adam', metrics=['accuracy'])\n",
        "\n",
        "model.summary()"
      ],
      "metadata": {
        "colab": {
          "base_uri": "https://localhost:8080/"
        },
        "id": "f2ykpWvw8HLO",
        "outputId": "d8c12457-40f5-4160-fec6-3fdda3625bb5"
      },
      "execution_count": null,
      "outputs": [
        {
          "output_type": "stream",
          "name": "stdout",
          "text": [
            "Model: \"sequential\"\n",
            "_________________________________________________________________\n",
            " Layer (type)                Output Shape              Param #   \n",
            "=================================================================\n",
            " embedding (Embedding)       (None, 150, 128)          25856     \n",
            "                                                                 \n",
            " lstm (LSTM)                 (None, 32)                20608     \n",
            "                                                                 \n",
            " dropout (Dropout)           (None, 32)                0         \n",
            "                                                                 \n",
            " dense (Dense)               (None, 1)                 33        \n",
            "                                                                 \n",
            "=================================================================\n",
            "Total params: 46497 (181.63 KB)\n",
            "Trainable params: 46497 (181.63 KB)\n",
            "Non-trainable params: 0 (0.00 Byte)\n",
            "_________________________________________________________________\n"
          ]
        }
      ]
    },
    {
      "cell_type": "code",
      "source": [
        "from keras.utils import plot_model"
      ],
      "metadata": {
        "id": "go8ZhK0_3K3p"
      },
      "execution_count": null,
      "outputs": []
    },
    {
      "cell_type": "code",
      "source": [
        "plot_model(model, to_file='/content/drive/My Drive/20/model_datasetskripsi.png', show_shapes=True, show_layer_names=True)\n"
      ],
      "metadata": {
        "colab": {
          "base_uri": "https://localhost:8080/",
          "height": 533
        },
        "id": "TXEFcz8w3cW8",
        "outputId": "53b19f65-6e9d-4ee3-a3e0-c4f7bbb0724f"
      },
      "execution_count": null,
      "outputs": [
        {
          "output_type": "execute_result",
          "data": {
            "image/png": "[encoded data removed]",
            "text/plain": [
              "<IPython.core.display.Image object>"
            ]
          },
          "metadata": {},
          "execution_count": 39
        }
      ]
    },
    {
      "cell_type": "code",
      "source": [
        "from IPython.display import Image\n",
        "Image('/content/drive/My Drive/model_plot.png')"
      ],
      "metadata": {
        "colab": {
          "base_uri": "https://localhost:8080/",
          "height": 533
        },
        "id": "tY_GeVGT3jZQ",
        "outputId": "e8886ea0-0206-409f-f0d1-9ab03cd94494"
      },
      "execution_count": null,
      "outputs": [
        {
          "output_type": "execute_result",
          "data": {
            "image/png": "[encoded data removed]",
            "text/plain": [
              "<IPython.core.display.Image object>"
            ]
          },
          "metadata": {},
          "execution_count": 21
        }
      ]
    },
    {
      "cell_type": "code",
      "source": [
        "history = model.fit(X_train, y_train, validation_data=[X_test, y_test],\n",
        "          batch_size=128, epochs=20, verbose=1)"
      ],
      "metadata": {
        "colab": {
          "base_uri": "https://localhost:8080/"
        },
        "id": "9P8stYVT-afm",
        "outputId": "8f070d41-c1bf-4663-8f25-ca580b69c698"
      },
      "execution_count": null,
      "outputs": [
        {
          "output_type": "stream",
          "name": "stdout",
          "text": [
            "Epoch 1/20\n",
            "4905/4905 [==============================] - 979s 199ms/step - loss: 0.1309 - accuracy: 0.9589 - val_loss: 0.0893 - val_accuracy: 0.9733\n",
            "Epoch 2/20\n",
            "4905/4905 [==============================] - 966s 197ms/step - loss: 0.0816 - accuracy: 0.9776 - val_loss: 0.0690 - val_accuracy: 0.9808\n",
            "Epoch 3/20\n",
            "4905/4905 [==============================] - 969s 197ms/step - loss: 0.0650 - accuracy: 0.9825 - val_loss: 0.0566 - val_accuracy: 0.9838\n",
            "Epoch 4/20\n",
            "4905/4905 [==============================] - 951s 194ms/step - loss: 0.0567 - accuracy: 0.9843 - val_loss: 0.0521 - val_accuracy: 0.9847\n",
            "Epoch 5/20\n",
            "4905/4905 [==============================] - 952s 194ms/step - loss: 0.0530 - accuracy: 0.9851 - val_loss: 0.0472 - val_accuracy: 0.9861\n",
            "Epoch 6/20\n",
            "4905/4905 [==============================] - 965s 197ms/step - loss: 0.0498 - accuracy: 0.9859 - val_loss: 0.0450 - val_accuracy: 0.9868\n",
            "Epoch 7/20\n",
            "4905/4905 [==============================] - 960s 196ms/step - loss: 0.0462 - accuracy: 0.9869 - val_loss: 0.0457 - val_accuracy: 0.9868\n",
            "Epoch 8/20\n",
            "4905/4905 [==============================] - 961s 196ms/step - loss: 0.0443 - accuracy: 0.9873 - val_loss: 0.0435 - val_accuracy: 0.9873\n",
            "Epoch 9/20\n",
            "4905/4905 [==============================] - 963s 196ms/step - loss: 0.0431 - accuracy: 0.9876 - val_loss: 0.0423 - val_accuracy: 0.9876\n",
            "Epoch 10/20\n",
            "4905/4905 [==============================] - 1059s 216ms/step - loss: 0.0414 - accuracy: 0.9881 - val_loss: 0.0427 - val_accuracy: 0.9874\n",
            "Epoch 11/20\n",
            "4905/4905 [==============================] - 964s 197ms/step - loss: 0.0403 - accuracy: 0.9884 - val_loss: 0.0395 - val_accuracy: 0.9883\n",
            "Epoch 12/20\n",
            "4905/4905 [==============================] - 960s 196ms/step - loss: 0.0392 - accuracy: 0.9889 - val_loss: 0.0408 - val_accuracy: 0.9884\n",
            "Epoch 13/20\n",
            "4905/4905 [==============================] - 963s 196ms/step - loss: 0.0388 - accuracy: 0.9887 - val_loss: 0.0421 - val_accuracy: 0.9881\n",
            "Epoch 14/20\n",
            "4905/4905 [==============================] - 957s 195ms/step - loss: 0.0384 - accuracy: 0.9889 - val_loss: 0.0402 - val_accuracy: 0.9882\n",
            "Epoch 15/20\n",
            "4905/4905 [==============================] - 923s 188ms/step - loss: 0.0376 - accuracy: 0.9892 - val_loss: 0.0398 - val_accuracy: 0.9884\n",
            "Epoch 16/20\n",
            "4905/4905 [==============================] - 881s 180ms/step - loss: 0.0367 - accuracy: 0.9893 - val_loss: 0.0389 - val_accuracy: 0.9887\n",
            "Epoch 17/20\n",
            "4905/4905 [==============================] - 959s 196ms/step - loss: 0.0360 - accuracy: 0.9896 - val_loss: 0.0395 - val_accuracy: 0.9885\n",
            "Epoch 18/20\n",
            "4905/4905 [==============================] - 961s 196ms/step - loss: 0.0357 - accuracy: 0.9897 - val_loss: 0.0381 - val_accuracy: 0.9887\n",
            "Epoch 19/20\n",
            "4905/4905 [==============================] - 963s 196ms/step - loss: 0.0354 - accuracy: 0.9897 - val_loss: 0.0374 - val_accuracy: 0.9889\n",
            "Epoch 20/20\n",
            "4905/4905 [==============================] - 964s 197ms/step - loss: 0.0350 - accuracy: 0.9897 - val_loss: 0.0391 - val_accuracy: 0.9888\n"
          ]
        }
      ]
    },
    {
      "cell_type": "code",
      "source": [
        "import matplotlib.pyplot as plt\n",
        "# Learning curve\n",
        "train_accuracy = history.history['accuracy']\n",
        "test_accuracy = history.history['val_accuracy']\n",
        "train_loss = history.history['loss']\n",
        "test_loss = history.history['val_loss']\n",
        "epochs = range(1, len(train_accuracy) + 1)\n",
        "\n",
        "# Plotting learning curve\n",
        "plt.figure(figsize=(12, 5))\n",
        "\n",
        "# Plotting accuracy curve\n",
        "plt.subplot(1, 2, 1)\n",
        "plt.plot(epochs, train_accuracy, label='Training Accuracy')\n",
        "plt.plot(epochs, test_accuracy, label='Test Accuracy')\n",
        "plt.title('Accuracy')\n",
        "plt.xlabel('Epochs')\n",
        "plt.ylabel('Accuracy')\n",
        "plt.legend()\n",
        "\n",
        "# Plotting loss curve\n",
        "plt.subplot(1, 2, 2)\n",
        "plt.plot(epochs, train_loss, label='Training Loss')\n",
        "plt.plot(epochs, test_loss, label='Test Loss')\n",
        "plt.title('Loss')\n",
        "plt.xlabel('Epochs')\n",
        "plt.ylabel('Loss')\n",
        "plt.legend()\n",
        "\n",
        "plt.tight_layout()\n",
        "plt.show()"
      ],
      "metadata": {
        "id": "PD-nB7Zguuht",
        "colab": {
          "base_uri": "https://localhost:8080/",
          "height": 494
        },
        "outputId": "c994ef05-0c25-47ab-8355-72af889fb473"
      },
      "execution_count": null,
      "outputs": [
        {
          "output_type": "display_data",
          "data": {
            "text/plain": [
              "<Figure size 1200x500 with 2 Axes>"
            ],
            "image/png": "[encoded data removed]"
          },
          "metadata": {}
        }
      ]
    },
    {
      "cell_type": "code",
      "source": [
        "loss, accuracy = model.evaluate(X_test, y_test)\n",
        "print(f'Test Loss: {loss}')\n",
        "print(f'Test Accuracy: {accuracy}')\n",
        "\n",
        "y_pred = model.predict(X_test)\n",
        "y_pred_classes = (y_pred > 0.5).astype(int)"
      ],
      "metadata": {
        "colab": {
          "base_uri": "https://localhost:8080/"
        },
        "id": "_Rns8rdTiKNs",
        "outputId": "bcc0382c-4a04-497e-9ea4-aa2dd9cd4359"
      },
      "execution_count": null,
      "outputs": [
        {
          "output_type": "stream",
          "name": "stdout",
          "text": [
            "4905/4905 [==============================] - 113s 23ms/step - loss: 0.0391 - accuracy: 0.9888\n",
            "Test Loss: 0.03906839340925217\n",
            "Test Accuracy: 0.9887609481811523\n",
            "4905/4905 [==============================] - 94s 19ms/step\n"
          ]
        }
      ]
    },
    {
      "cell_type": "code",
      "source": [
        "from keras.models import model_from_json\n",
        "import numpy as np\n",
        "\n",
        "model_json = model.to_json()\n",
        "with open(\"modeldatasetskripsi.json\", \"w\") as json_file:\n",
        "    json_file.write(model_json)\n",
        "model.save_weights(\"model_weightsdatasets.h5\")"
      ],
      "metadata": {
        "id": "8tQ2iLNddst0"
      },
      "execution_count": null,
      "outputs": []
    },
    {
      "cell_type": "code",
      "source": [
        "train_file_path = '/content/drive/My Drive/20/train_data_skripsi.csv'\n",
        "test_file_path = '/content/drive/My Drive/20/test_data_skripsi.csv'\n",
        "\n",
        "df_train = pd.DataFrame({'url': df.iloc[train_idx].url, 'status': y_train})\n",
        "df_test = pd.DataFrame({'url': df.iloc[test_idx].url, 'status': y_test, 'predicted_status': y_pred_classes.flatten()})\n",
        "\n",
        "df_train.to_csv(train_file_path, index=False)\n",
        "df_test.to_csv(test_file_path, index=False)\n",
        "\n",
        "print(f'Training data with predictions saved to {train_file_path}')\n",
        "print(f'Testing data with predictions saved to {test_file_path}')"
      ],
      "metadata": {
        "colab": {
          "base_uri": "https://localhost:8080/"
        },
        "id": "7vHorhz86-xX",
        "outputId": "36af89ff-d954-4217-ed48-da726459ffdc"
      },
      "execution_count": null,
      "outputs": [
        {
          "output_type": "stream",
          "name": "stdout",
          "text": [
            "Training data with predictions saved to /content/drive/My Drive/20/train_data_skripsi.csv\n",
            "Testing data with predictions saved to /content/drive/My Drive/20/test_data_skripsi.csv\n"
          ]
        }
      ]
    },
    {
      "cell_type": "code",
      "source": [
        "import matplotlib.pyplot as plt\n",
        "from sklearn.metrics import confusion_matrix, ConfusionMatrixDisplay\n",
        "cm = confusion_matrix(y_test, y_pred_classes)\n",
        "disp = ConfusionMatrixDisplay(confusion_matrix=cm, display_labels=['Sah', 'Phishing'])\n",
        "disp.plot(cmap=plt.cm.Blues)\n",
        "plt.show()"
      ],
      "metadata": {
        "colab": {
          "base_uri": "https://localhost:8080/",
          "height": 449
        },
        "id": "Xb3WzQKI7XfV",
        "outputId": "34a9144e-ca73-4b55-c419-13772a9d2e1c"
      },
      "execution_count": null,
      "outputs": [
        {
          "output_type": "display_data",
          "data": {
            "text/plain": [
              "<Figure size 640x480 with 2 Axes>"
            ],
            "image/png": "[encoded data removed]"
          },
          "metadata": {}
        }
      ]
    },
    {
      "cell_type": "code",
      "source": [
        "import matplotlib.pyplot as plt\n",
        "from sklearn.metrics import confusion_matrix, ConfusionMatrixDisplay, precision_score, recall_score\n",
        "\n",
        "cm = confusion_matrix(y_test, y_pred_classes)\n",
        "disp = ConfusionMatrixDisplay(confusion_matrix=cm, display_labels=['Sah', 'Phishing'])\n",
        "disp.plot(cmap=plt.cm.Blues)\n",
        "plt.show()\n",
        "\n",
        "# Hitung precision dan recall\n",
        "precision_sah = precision_score(y_test, y_pred_classes, pos_label=0)\n",
        "recall_sah = recall_score(y_test, y_pred_classes, pos_label=0)\n",
        "# Hitung precision dan recall\n",
        "precision_phishing = precision_score(y_test, y_pred_classes, pos_label=1)\n",
        "recall_phishing = recall_score(y_test, y_pred_classes, pos_label=1)\n",
        "print(f'Precision Sah: {precision_sah}')\n",
        "print(f'Recall Sah: {recall_sah}')\n",
        "print(f'Precision Phishing: {precision_phishing}')\n",
        "print(f'Recall Phishing: {recall_phishing}')"
      ],
      "metadata": {
        "colab": {
          "base_uri": "https://localhost:8080/",
          "height": 518
        },
        "id": "IvByBGh2-Kyu",
        "outputId": "d13321e7-50c0-41ca-d4bd-1e26afcc5f74"
      },
      "execution_count": null,
      "outputs": [
        {
          "output_type": "display_data",
          "data": {
            "text/plain": [
              "<Figure size 640x480 with 2 Axes>"
            ],
            "image/png": "[encoded data removed]"
          },
          "metadata": {}
        },
        {
          "output_type": "stream",
          "name": "stdout",
          "text": [
            "Precision Sah: 0.988640262265086\n",
            "Recall Sah: 0.9889418493803622\n",
            "Precision Phishing: 0.9888823574513763\n",
            "Recall Phishing: 0.9885791665602085\n"
          ]
        }
      ]
    },
    {
      "cell_type": "code",
      "source": [
        "import matplotlib.pyplot as plt\n",
        "import seaborn as sns\n",
        "from sklearn.metrics import confusion_matrix, precision_score, recall_score\n",
        "\n",
        "cm = confusion_matrix(y_test, y_pred_classes)\n",
        "plt.figure(figsize=(8, 6))\n",
        "sns.heatmap(cm, annot=True, fmt=\"d\", cmap=\"Blues\", xticklabels=['Predicted Sah', 'Predicted Phishing'], yticklabels=['Actual Sah', 'Actual Phishing'])\n",
        "plt.xlabel('Predicted Labels')\n",
        "plt.ylabel('Actual Labels')\n",
        "plt.show()\n",
        "\n",
        "# Hitung precision dan recall\n",
        "precision_sah = precision_score(y_test, y_pred_classes, pos_label=0)\n",
        "recall_sah = recall_score(y_test, y_pred_classes, pos_label=0)\n",
        "\n",
        "# Hitung precision dan recall\n",
        "precision_phishing = precision_score(y_test, y_pred_classes, pos_label=1)\n",
        "recall_phishing = recall_score(y_test, y_pred_classes, pos_label=1)\n",
        "\n",
        "print(f'Precision Sah: {precision_sah}')\n",
        "print(f'Recall Sah: {recall_sah}')\n",
        "print(f'Precision Phishing: {precision_phishing}')\n",
        "print(f'Recall Phishing: {recall_phishing}')\n"
      ],
      "metadata": {
        "colab": {
          "base_uri": "https://localhost:8080/",
          "height": 611
        },
        "id": "jibjhM3G4H7e",
        "outputId": "8da7d174-4c76-4621-8a06-f22b8fdf5b17"
      },
      "execution_count": null,
      "outputs": [
        {
          "output_type": "display_data",
          "data": {
            "text/plain": [
              "<Figure size 800x600 with 2 Axes>"
            ],
            "image/png": "[encoded data removed]"
          },
          "metadata": {}
        },
        {
          "output_type": "stream",
          "name": "stdout",
          "text": [
            "Precision Sah: 0.988640262265086\n",
            "Recall Sah: 0.9889418493803622\n",
            "Precision Phishing: 0.9888823574513763\n",
            "Recall Phishing: 0.9885791665602085\n"
          ]
        }
      ]
    },
    {
      "cell_type": "code",
      "source": [
        "target_proba = model.predict(X_test, batch_size=1)"
      ],
      "metadata": {
        "colab": {
          "base_uri": "https://localhost:8080/"
        },
        "id": "dc0sc0KckZz-",
        "outputId": "697369b6-4b91-473e-ef0d-72f50cbe5e96"
      },
      "execution_count": null,
      "outputs": [
        {
          "output_type": "stream",
          "name": "stdout",
          "text": [
            "156953/156953 [==============================] - 1444s 9ms/step\n"
          ]
        }
      ]
    },
    {
      "cell_type": "code",
      "source": [
        "target_proba[0:10]"
      ],
      "metadata": {
        "colab": {
          "base_uri": "https://localhost:8080/"
        },
        "id": "fbBGPprwsPFl",
        "outputId": "874479a6-edad-4af3-f431-f5188835a236"
      },
      "execution_count": null,
      "outputs": [
        {
          "output_type": "execute_result",
          "data": {
            "text/plain": [
              "array([[2.8112876e-05],\n",
              "       [9.7005266e-01],\n",
              "       [2.9247234e-05],\n",
              "       [9.9998873e-01],\n",
              "       [1.2116231e-05],\n",
              "       [9.9828595e-01],\n",
              "       [9.4475761e-02],\n",
              "       [8.5990787e-06],\n",
              "       [4.8461592e-05],\n",
              "       [9.9744427e-01]], dtype=float32)"
            ]
          },
          "metadata": {},
          "execution_count": 49
        }
      ]
    },
    {
      "cell_type": "code",
      "source": [
        "l_layers = model.layers\n",
        "weights = l_layers[1].get_weights()\n",
        "weights[0].shape"
      ],
      "metadata": {
        "colab": {
          "base_uri": "https://localhost:8080/"
        },
        "id": "_3J7-kBOski4",
        "outputId": "29b6cb38-5b2b-435f-88db-e3de8b554ea0"
      },
      "execution_count": null,
      "outputs": [
        {
          "output_type": "execute_result",
          "data": {
            "text/plain": [
              "(128, 128)"
            ]
          },
          "metadata": {},
          "execution_count": 50
        }
      ]
    },
    {
      "cell_type": "code",
      "source": [
        "def url_to_sequence(url, vocabulary, max_url_len):\n",
        "    url_int_tokens = [[vocabulary.get(x, 0) for x in url if x in vocabulary]]\n",
        "    return sequence.pad_sequences(url_int_tokens, maxlen=max_url_len)\n",
        "\n",
        "url = input(\"Enter the URL to predict: \")\n",
        "X_manual = url_to_sequence(url, vocabulary, max_url_len)\n",
        "target_proba = model.predict(X_manual, batch_size=1)\n",
        "\n",
        "def print_result(proba):\n",
        "    if proba > 0.5:\n",
        "        return \"phishing\"\n",
        "    else:\n",
        "        return \"sah\"\n",
        "\n",
        "print(\"Test URL:\", url, \"is\", print_result(target_proba[0]))"
      ],
      "metadata": {
        "colab": {
          "base_uri": "https://localhost:8080/"
        },
        "id": "EKIutv1RHX5j",
        "outputId": "fb8b95a0-4d07-43d0-c90b-48391f43691e"
      },
      "execution_count": null,
      "outputs": [
        {
          "output_type": "stream",
          "name": "stdout",
          "text": [
            "Enter the URL to predict: http://211.95.3.83/Chase/page/confirm.php\n",
            "1/1 [==============================] - 0s 53ms/step\n",
            "Test URL: http://211.95.3.83/Chase/page/confirm.php is phishing\n"
          ]
        }
      ]
    },
    {
      "cell_type": "code",
      "source": [
        "def url_to_sequence(url, vocabulary, max_url_len):\n",
        "    url_int_tokens = [[vocabulary.get(x, 0) for x in url if x in vocabulary]]\n",
        "    return sequence.pad_sequences(url_int_tokens, maxlen=max_url_len)\n",
        "\n",
        "url = input(\"Enter the URL to predict: \")\n",
        "X_manual = url_to_sequence(url, vocabulary, max_url_len)\n",
        "target_proba = model.predict(X_manual, batch_size=1)\n",
        "\n",
        "def print_result(proba):\n",
        "    if proba > 0.5:\n",
        "        return \"phishing\"\n",
        "    else:\n",
        "        return \"sah\"\n",
        "\n",
        "print(\"Test URL:\", url, \"is\", print_result(target_proba[0]))"
      ],
      "metadata": {
        "colab": {
          "base_uri": "https://localhost:8080/"
        },
        "id": "yZB7CU62Vm9U",
        "outputId": "dbdc4303-1f77-4517-f808-16de6134046d"
      },
      "execution_count": null,
      "outputs": [
        {
          "output_type": "stream",
          "name": "stdout",
          "text": [
            "Enter the URL to predict: https://www.kaggle.com/\n",
            "1/1 [==============================] - 0s 37ms/step\n",
            "Test URL: https://www.kaggle.com/ is sah\n"
          ]
        }
      ]
    },
    {
      "cell_type": "code",
      "source": [
        "from google.colab import drive\n",
        "from tensorflow.keras.models import model_from_json\n",
        "import numpy as np\n",
        "\n",
        "drive.mount('/content/drive')\n",
        "model_json = model.to_json()\n",
        "with open(\"/content/drive/My Drive/20/modeldatasetskripsi.json\", \"w\") as json_file:\n",
        "    json_file.write(model_json)\n",
        "model.save_weights(\"/content/drive/My Drive/20/model_weightssdatasets.h5\")\n"
      ],
      "metadata": {
        "colab": {
          "base_uri": "https://localhost:8080/"
        },
        "id": "EG0AgAmn10tj",
        "outputId": "16fc9807-24b2-484b-d8ff-2514b9ec55d7"
      },
      "execution_count": null,
      "outputs": [
        {
          "output_type": "stream",
          "name": "stdout",
          "text": [
            "Drive already mounted at /content/drive; to attempt to forcibly remount, call drive.mount(\"/content/drive\", force_remount=True).\n"
          ]
        }
      ]
    },
    {
      "cell_type": "code",
      "source": [
        "import tensorflow as tf\n",
        "model.save(\"/kaggle/working/model_datasets.h5\")\n",
        "load_model = tf.keras.models.load_model(\"/kaggle/working/model_datasets.h5\")"
      ],
      "metadata": {
        "id": "bFoUX5Nh_B6R"
      },
      "execution_count": null,
      "outputs": []
    }
  ]
}